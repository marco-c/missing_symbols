{
 "cells": [
  {
   "cell_type": "code",
   "execution_count": null,
   "metadata": {
    "collapsed": false
   },
   "outputs": [],
   "source": [
    "!git clone https://github.com/marco-c/missing_symbols.git"
   ]
  },
  {
   "cell_type": "code",
   "execution_count": null,
   "metadata": {
    "collapsed": false
   },
   "outputs": [],
   "source": [
    "import os\n",
    "from datetime import datetime, timedelta\n",
    "from pyspark.sql import functions\n",
    "import boto3\n",
    "from urlparse import urljoin\n",
    "import requests"
   ]
  },
  {
   "cell_type": "code",
   "execution_count": null,
   "metadata": {
    "collapsed": true
   },
   "outputs": [],
   "source": [
    "known_modules = set([module[:-4].lower() for module in os.listdir('missing_symbols/known_modules')])"
   ]
  },
  {
   "cell_type": "code",
   "execution_count": null,
   "metadata": {
    "collapsed": true
   },
   "outputs": [],
   "source": [
    "num_days = 3\n",
    "days = [datetime.utcnow().date() - timedelta(1) - timedelta(i) for i in range(0, num_days)]"
   ]
  },
  {
   "cell_type": "code",
   "execution_count": null,
   "metadata": {
    "collapsed": false
   },
   "outputs": [],
   "source": [
    "dataset = SQLContext(sc).read.load(['s3://telemetry-parquet/socorro_crash/v2/crash_date=' + day.strftime('%Y%m%d') for day in days], 'parquet')"
   ]
  },
  {
   "cell_type": "code",
   "execution_count": null,
   "metadata": {
    "collapsed": false
   },
   "outputs": [],
   "source": [
    "modules = dataset\\\n",
    ".filter(dataset['product'] == 'Firefox')\\\n",
    ".select(['uuid'] + [functions.explode(dataset['json_dump']['modules']).alias('module')])\\\n",
    ".dropDuplicates(['uuid', 'module'])\\\n",
    ".select(['module'])\\\n",
    ".rdd\\\n",
    ".map(lambda v: v['module'])\\\n",
    ".filter(lambda m: m['missing_symbols'] and m['filename'].lower() not in known_modules and '(deleted)' not in m['filename'])\\\n",
    ".flatMap(lambda m: [((m['filename'], (m['version'], m['debug_id'], m['debug_file'])), 1)])\\\n",
    ".reduceByKey(lambda x, y: x + y)\\\n",
    ".map(lambda v: (v[0][0], [(v[0][1], v[1])]))\\\n",
    ".reduceByKey(lambda x, y: x + y)\\\n",
    ".sortBy(lambda v: sum(count for ver,count in v[1]), ascending=False)\\\n",
    ".collect()"
   ]
  },
  {
   "cell_type": "code",
   "execution_count": null,
   "metadata": {
    "collapsed": false
   },
   "outputs": [],
   "source": [
    "len(modules)"
   ]
  },
  {
   "cell_type": "code",
   "execution_count": null,
   "metadata": {
    "collapsed": false
   },
   "outputs": [],
   "source": [
    "[(module, sum(count for ver, count in versions)) for module, versions in modules[:50]]"
   ]
  },
  {
   "cell_type": "code",
   "execution_count": null,
   "metadata": {
    "collapsed": false
   },
   "outputs": [],
   "source": [
    "top_missing = sorted([(name, version, count) for name, versions in modules for version, count in versions if count > 2000], key=lambda m: m[2], reverse=True)"
   ]
  },
  {
   "cell_type": "code",
   "execution_count": null,
   "metadata": {
    "collapsed": false
   },
   "outputs": [],
   "source": [
    "len(top_missing)"
   ]
  },
  {
   "cell_type": "code",
   "execution_count": null,
   "metadata": {
    "collapsed": false
   },
   "outputs": [],
   "source": [
    "def are_symbols_available(debug_file, debug_id):\n",
    "    if not debug_file or not debug_id:\n",
    "        return False\n",
    "\n",
    "    url = urljoin('https://symbols.mozilla.org/', '{}/{}/{}'.format(debug_file, debug_id, debug_file if not debug_file.endswith('.pdb') else debug_file[:-3] + 'sym'))\n",
    "    r = requests.head(url)\n",
    "    return r.ok\n",
    "\n",
    "top_missing_with_avail_info = [(name, version, debug_id, count, are_symbols_available(debug_id, debug_file)) for name, (version, debug_id, debug_file), count in top_missing]"
   ]
  },
  {
   "cell_type": "code",
   "execution_count": null,
   "metadata": {
    "collapsed": true
   },
   "outputs": [],
   "source": [
    "with open('missing_symbols/firefox_modules.txt', 'r') as f:\n",
    "    firefox_modules = [m for m in f.read().split('\\n') if m.strip() != '']"
   ]
  },
  {
   "cell_type": "code",
   "execution_count": null,
   "metadata": {
    "collapsed": true
   },
   "outputs": [],
   "source": [
    "with open('missing_symbols/windows_modules.txt', 'r') as f:\n",
    "    windows_modules = [m for m in f.read().split('\\n') if m.strip() != '']"
   ]
  },
  {
   "cell_type": "code",
   "execution_count": null,
   "metadata": {
    "collapsed": false
   },
   "outputs": [],
   "source": [
    "import boto3\n",
    "\n",
    "subject = 'Weekly report of modules with missing symbols in crash reports'\n",
    "\n",
    "body = \"\"\"\n",
    "<table style=\"border-collapse:collapse;\">\n",
    "  <tr>\n",
    "  <th style=\"border: 1px solid black;\">Name</th>\n",
    "  <th style=\"border: 1px solid black;\">Version</th>\n",
    "  <th style=\"border: 1px solid black;\">Debug ID</th>\n",
    "  <th style=\"border: 1px solid black;\"># of crash reports</th>\n",
    "</tr>\n",
    "\"\"\"\n",
    "any_available = False\n",
    "for name, version, debug_id, count, are_available_now in top_missing_with_avail_info:\n",
    "    body += '<tr>'\n",
    "    body += '<td style=\"border: 1px solid black;\">'\n",
    "    if name.lower() in firefox_modules:\n",
    "        if debug_id:\n",
    "            body += '<span style=\"color:red;\">%s</span>' % name\n",
    "        else:\n",
    "            body += '<span style=\"color:orange;\">%s</span>' % name\n",
    "    elif name.lower() in windows_modules:\n",
    "        body += '<span style=\"color:blue;\">%s</span>' % name\n",
    "    else:\n",
    "        body += name\n",
    "    if are_available_now:\n",
    "        body += ' (*)'\n",
    "        any_available = True\n",
    "    body += '</td>'\n",
    "    body += '<td style=\"border: 1px solid black;\">%s</td>' % version\n",
    "    body += '<td style=\"border: 1px solid black;\">%s</td>' % debug_id\n",
    "    body += '<td style=\"border: 1px solid black;\">%d</td>' % count\n",
    "    body += '</tr>'\n",
    "body += '</table>'\n",
    "\n",
    "body += '<pre>'\n",
    "\n",
    "if any_available:\n",
    "    body += \"\"\"\n",
    "(*) We now have symbols for the modules marked with an asterisk. We could\n",
    "reprocess them to improve stack traces (and maybe signatures) of some crash reports.\\n\n",
    "\"\"\"\n",
    "\n",
    "body += \"\"\"\n",
    "The number of crash reports refers to the past 3 days.\n",
    "Only modules with at least 2,000 crash reports are shown in this list.\n",
    "\n",
    "Firefox own modules, for which we should have symbols, and have the debug ID are colored in red.\n",
    "For Firefox own modules, where we don't have a debug ID are colored in orange.\n",
    "OS modules, for which we should have symbols, are colored in blue.\n",
    "\n",
    "If you see modules that shouldn't be in this list as it's expected not\n",
    "to have their symbols, either contact mcastelluccio@mozilla.com or open\n",
    "a PR to add them to https://github.com/marco-c/missing_symbols/tree/master/known_modules.\n",
    "\"\"\"\n",
    "\n",
    "body += '</pre>'\n",
    "\n",
    "ses = boto3.client('ses')\n",
    "ses.send_email(\n",
    "    Source='telemetry-alerts@mozilla.com',\n",
    "    Destination={\n",
    "        'ToAddresses': ['mcastelluccio@mozilla.com', 'release-mgmt@mozilla.com', 'stability@mozilla.org'],\n",
    "        'CcAddresses': [],\n",
    "    },\n",
    "    Message={\n",
    "        'Subject': {'Data': subject, 'Charset': 'UTF-8'},\n",
    "        'Body': {'Html': {'Data': body, 'Charset': 'UTF-8'}}\n",
    "    }\n",
    ")['MessageId']"
   ]
  },
  {
   "cell_type": "code",
   "execution_count": null,
   "metadata": {
    "collapsed": true
   },
   "outputs": [],
   "source": []
  }
 ],
 "metadata": {
  "anaconda-cloud": {},
  "kernelspec": {
   "display_name": "Python 2",
   "language": "python",
   "name": "python2"
  },
  "language_info": {
   "codemirror_mode": {
    "name": "ipython",
    "version": 2
   },
   "file_extension": ".py",
   "mimetype": "text/x-python",
   "name": "python",
   "nbconvert_exporter": "python",
   "pygments_lexer": "ipython2",
   "version": "2.7.13"
  }
 },
 "nbformat": 4,
 "nbformat_minor": 0
}
