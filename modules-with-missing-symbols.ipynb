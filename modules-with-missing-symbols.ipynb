{
 "cells": [
  {
   "cell_type": "code",
   "execution_count": 1,
   "metadata": {},
   "outputs": [],
   "source": [
    "!rm -rf missing_symbols\n",
    "!git clone https://github.com/marco-c/missing_symbols.git\n",
    "dbutils.library.installPyPI(\"google-cloud-bigquery\", \"1.20.0\")\n",
    "dbutils.library.restartPython()"
   ]
  },
  {
   "cell_type": "code",
   "execution_count": 2,
   "metadata": {},
   "outputs": [],
   "source": [
    "import os\n",
    "from datetime import datetime, timedelta\n",
    "from pyspark.sql import functions\n",
    "import boto3\n",
    "from urllib.parse import urljoin\n",
    "import requests"
   ]
  },
  {
   "cell_type": "code",
   "execution_count": 3,
   "metadata": {},
   "outputs": [],
   "source": [
    "known_modules = set([module[:-4].lower() for module in os.listdir('missing_symbols/known_modules')])"
   ]
  },
  {
   "cell_type": "code",
   "execution_count": 4,
   "metadata": {},
   "outputs": [],
   "source": [
    "dataset = (spark.read.format(\"bigquery\")\n",
    "    .option(\"table\", \"moz-fx-data-shared-prod.telemetry_derived.socorro_crash_v2\")\n",
    "    .load()\n",
    "    .where(\"crash_date >= to_date('{}')\".format((datetime.utcnow() - timedelta(3)).strftime('%Y-%m-%d')))\n",
    ")"
   ]
  },
  {
   "cell_type": "code",
   "execution_count": 5,
   "metadata": {},
   "outputs": [],
   "source": [
    "# This is a comparison of results if we use a BigQuery query for all the logic rather than Spark.\n",
    "\n",
    "'''query = \"\"\"\n",
    "WITH\n",
    "  base AS (\n",
    "  SELECT\n",
    "    uuid,\n",
    "    json_dump.modules.list AS modules,\n",
    "    ROW_NUMBER() OVER (PARTITION BY uuid) AS _n\n",
    "  FROM\n",
    "    `moz-fx-data-derived-datasets.telemetry_derived.socorro_crash_v2`\n",
    "  WHERE\n",
    "    crash_date >= \"2019-12-06\"\n",
    "    AND product = 'Firefox' ),\n",
    "  deduped AS (\n",
    "  SELECT\n",
    "    * EXCEPT(_n)\n",
    "  FROM\n",
    "    base\n",
    "  WHERE\n",
    "    _n = 1 ),\n",
    "  exploded AS (\n",
    "  SELECT\n",
    "    module.element.*\n",
    "  FROM\n",
    "    deduped\n",
    "  CROSS JOIN\n",
    "    UNNEST(modules) AS module )\n",
    "SELECT\n",
    "  filename,\n",
    "  version,\n",
    "  debug_id,\n",
    "  debug_file,\n",
    "  COUNT(*) AS n\n",
    "FROM\n",
    "  exploded\n",
    "WHERE\n",
    "  missing_symbols\n",
    "  AND filename NOT LIKE '%(deleted)%'\n",
    "  AND LOWER(filename) NOT IN {known_modules}\n",
    "GROUP BY\n",
    "  1,\n",
    "  2,\n",
    "  3,\n",
    "  4\n",
    "\"\"\".format(known_modules=tuple(known_modules))\n",
    "\n",
    "from google.cloud import bigquery\n",
    "\n",
    "bq = bigquery.Client()\n",
    "\n",
    "dataset_id = 'analysis'\n",
    "table_ref = bq.dataset(dataset_id, project='moz-fx-data-shared-prod').table('klukas_modules_with_missing_symbols')\n",
    "job_config = bigquery.QueryJobConfig()\n",
    "job_config.destination = table_ref\n",
    "job_config.write_disposition = 'WRITE_TRUNCATE'\n",
    "\n",
    "query_job = bq.query(query, job_config=job_config)\n",
    "query_job.result()\n",
    "\n",
    "df = spark.read.format('bigquery') \\\n",
    "    .option('project', 'moz-fx-data-shared-prod') \\\n",
    "    .option('dataset', query_job.destination.dataset_id) \\\n",
    "    .option('table', query_job.destination.table_id) \\\n",
    "    .load()\n",
    "modules_via_query = df.rdd\\\n",
    "  .flatMap(lambda m: [((m['filename'], (m['version'], m['debug_id'], m['debug_file'])), m['n'])])\\\n",
    "  .reduceByKey(lambda x, y: x + y)\\\n",
    "  .map(lambda v: (v[0][0], [(v[0][1], v[1])]))\\\n",
    "  .reduceByKey(lambda x, y: x + y)\\\n",
    "  .sortBy(lambda v: sum(count for ver,count in v[1]), ascending=False)\\\n",
    "  .collect()'''"
   ]
  },
  {
   "cell_type": "code",
   "execution_count": 6,
   "metadata": {},
   "outputs": [],
   "source": [
    "modules = dataset\\\n",
    ".filter(dataset['product'] == 'Firefox')\\\n",
    ".select(['uuid'] + [functions.explode((dataset['json_dump']['modules']['list'])).alias('module')])\\\n",
    ".dropDuplicates(['uuid', 'module'])\\\n",
    ".select(['module'])\\\n",
    ".rdd\\\n",
    ".map(lambda v: v['module']['element'])\\\n",
    ".filter(lambda m: m['missing_symbols'] and m['filename'].lower() not in known_modules and '(deleted)' not in m['filename'])\\\n",
    ".flatMap(lambda m: [((m['filename'], (m['version'], m['debug_id'], m['debug_file'])), 1)])\\\n",
    ".reduceByKey(lambda x, y: x + y)\\\n",
    ".map(lambda v: (v[0][0], [(v[0][1], v[1])]))\\\n",
    ".reduceByKey(lambda x, y: x + y)\\\n",
    ".sortBy(lambda v: sum(count for ver,count in v[1]), ascending=False)\\\n",
    ".collect()\n"
   ]
  },
  {
   "cell_type": "code",
   "execution_count": 7,
   "metadata": {},
   "outputs": [],
   "source": [
    "len(modules)"
   ]
  },
  {
   "cell_type": "code",
   "execution_count": 8,
   "metadata": {},
   "outputs": [],
   "source": [
    "[(module, sum(count for ver, count in versions)) for module, versions in modules]"
   ]
  },
  {
   "cell_type": "code",
   "execution_count": 9,
   "metadata": {},
   "outputs": [],
   "source": [
    "top_missing = sorted([(name, version, count) for name, versions in modules for version, count in versions if count > 70], key=lambda m: m[2], reverse=True)"
   ]
  },
  {
   "cell_type": "code",
   "execution_count": 10,
   "metadata": {},
   "outputs": [],
   "source": [
    "len(top_missing)"
   ]
  },
  {
   "cell_type": "code",
   "execution_count": 11,
   "metadata": {},
   "outputs": [],
   "source": [
    "with open('missing_symbols/firefox_modules.txt', 'r') as f:\n",
    "    firefox_modules = [m.lower() for m in f.read().split('\\n') if m.strip() != '']"
   ]
  },
  {
   "cell_type": "code",
   "execution_count": 12,
   "metadata": {},
   "outputs": [],
   "source": [
    "with open('missing_symbols/windows_modules.txt', 'r') as f:\n",
    "    windows_modules = [m.lower() for m in f.read().split('\\n') if m.strip() != '']"
   ]
  },
  {
   "cell_type": "code",
   "execution_count": 13,
   "metadata": {},
   "outputs": [],
   "source": [
    "r = requests.get('https://product-details.mozilla.org/1.0/firefox_history_major_releases.json')\n",
    "firefox_versions = r.json()\n",
    "old_firefox_versions = []\n",
    "for version, date in firefox_versions.items():\n",
    "    delta = datetime.utcnow() - datetime.strptime(date, '%Y-%m-%d')\n",
    "    if abs(delta.days) > 730:\n",
    "        old_firefox_versions.append(version[:version.index('.')])\n",
    "\n",
    "def is_old_firefox_module(module_info):\n",
    "    name, (version, _, _), _ = module_info\n",
    "    if name.lower() not in firefox_modules:\n",
    "        return False\n",
    "\n",
    "    return any(version.startswith(v + '.') for v in old_firefox_versions)\n",
    "\n",
    "top_missing = [m for m in top_missing if not is_old_firefox_module(m)]"
   ]
  },
  {
   "cell_type": "code",
   "execution_count": 14,
   "metadata": {},
   "outputs": [],
   "source": [
    "def are_symbols_available(debug_file, debug_id):\n",
    "    if not debug_file or not debug_id:\n",
    "        return False\n",
    "\n",
    "    url = urljoin('https://symbols.mozilla.org/', '{}/{}/{}'.format(debug_file, debug_id, debug_file if not debug_file.endswith('.pdb') else debug_file[:-3] + 'sym'))\n",
    "    r = requests.head(url)\n",
    "    return r.ok\n",
    "\n",
    "top_missing_with_avail_info = [(name, version, debug_id, count, are_symbols_available(debug_id, debug_file)) for name, (version, debug_id, debug_file), count in top_missing]"
   ]
  },
  {
   "cell_type": "code",
   "execution_count": 15,
   "metadata": {},
   "outputs": [],
   "source": [
    "subject = 'Weekly report of modules with missing symbols in crash reports: %s' % datetime.today().strftime(\"%Y-%m-%d\")\n",
    "\n",
    "body = \"\"\"\n",
    "<table style=\"border-collapse:collapse;\">\n",
    "  <tr>\n",
    "  <th style=\"border: 1px solid black;\">Name</th>\n",
    "  <th style=\"border: 1px solid black;\">Version</th>\n",
    "  <th style=\"border: 1px solid black;\">Debug ID</th>\n",
    "  <th style=\"border: 1px solid black;\"># of crash reports</th>\n",
    "</tr>\n",
    "\"\"\"\n",
    "any_available = False\n",
    "for name, version, debug_id, count, are_available_now in top_missing_with_avail_info:\n",
    "    body += '<tr>'\n",
    "    body += '<td style=\"border: 1px solid black;\">'\n",
    "    if name.lower() in firefox_modules:\n",
    "        if debug_id:\n",
    "            body += '<span style=\"color:red;\">%s</span>' % name\n",
    "        else:\n",
    "            body += '<span style=\"color:orange;\">%s</span>' % name\n",
    "    elif name.lower() in windows_modules:\n",
    "        body += '<span style=\"color:blue;\">%s</span>' % name\n",
    "    else:\n",
    "        body += name\n",
    "    if are_available_now:\n",
    "        body += ' (*)'\n",
    "        any_available = True\n",
    "    body += '</td>'\n",
    "    body += '<td style=\"border: 1px solid black;\">%s</td>' % version\n",
    "    body += '<td style=\"border: 1px solid black;\">%s</td>' % debug_id\n",
    "    body += '<td style=\"border: 1px solid black;\">%d</td>' % count\n",
    "    body += '</tr>'\n",
    "body += '</table>'\n",
    "\n",
    "body += '<pre>'\n",
    "\n",
    "if any_available:\n",
    "    body += \"\"\"\n",
    "(*) We now have symbols for the modules marked with an asterisk. We could\n",
    "reprocess them to improve stack traces (and maybe signatures) of some crash reports.\\n\n",
    "\"\"\"\n",
    "\n",
    "body += \"\"\"\n",
    "The number of crash reports refers to the past 3 days.\n",
    "Only modules with at least 2,000 crash reports are shown in this list.\n",
    "\n",
    "Firefox own modules, for which we should have symbols, and have the debug ID are colored in red.\n",
    "For Firefox own modules, where we don't have a debug ID are colored in orange.\n",
    "OS modules, for which we should have symbols, are colored in blue.\n",
    "\n",
    "If you see modules that shouldn't be in this list as it's expected not\n",
    "to have their symbols, either contact mcastelluccio@mozilla.com or open\n",
    "a PR to add them to https://github.com/marco-c/missing_symbols/tree/master/known_modules.\n",
    "\"\"\"\n",
    "\n",
    "body += '</pre>'\n",
    "\n",
    "client = boto3.client(\n",
    "  \"ses\",\n",
    "  aws_access_key_id=dbutils.secrets.get(\"data-email\", \"access_key_id\"),\n",
    "  aws_secret_access_key=dbutils.secrets.get(\"data-email\", \"secret_access_key\"),\n",
    "  region_name=\"us-west-2\",\n",
    ")\n",
    "\n",
    "client.send_email(\n",
    "    Source='mcastelluccio@data.mozaws.net',\n",
    "    Destination={\n",
    "        'ToAddresses': ['mcastelluccio@mozilla.com', 'release-mgmt@mozilla.com', 'stability@mozilla.org'],\n",
    "        'CcAddresses': [],\n",
    "    },\n",
    "    Message={\n",
    "        'Subject': {'Data': subject, 'Charset': 'UTF-8'},\n",
    "        'Body': {'Html': {'Data': body, 'Charset': 'UTF-8'}}\n",
    "    }\n",
    ")['MessageId']"
   ]
  },
  {
   "cell_type": "code",
   "execution_count": 16,
   "metadata": {},
   "outputs": [],
   "source": []
  }
 ],
 "metadata": {
  "kernelspec": {
   "display_name": "Python 3 (ipykernel)",
   "language": "python",
   "name": "python3"
  },
  "language_info": {
   "codemirror_mode": {
    "name": "ipython",
    "version": 3
   },
   "file_extension": ".py",
   "mimetype": "text/x-python",
   "name": "python",
   "nbconvert_exporter": "python",
   "pygments_lexer": "ipython3",
   "version": "3.10.6"
  },
  "name": "modules-with-missing-symbols",
  "notebookId": 181504
 },
 "nbformat": 4,
 "nbformat_minor": 4
}
